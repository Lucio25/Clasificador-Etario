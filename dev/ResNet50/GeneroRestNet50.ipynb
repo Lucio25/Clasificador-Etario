{
  "nbformat": 4,
  "nbformat_minor": 0,
  "metadata": {
    "colab": {
      "provenance": [],
      "gpuType": "T4"
    },
    "kernelspec": {
      "name": "python3",
      "display_name": "Python 3"
    },
    "language_info": {
      "name": "python"
    },
    "accelerator": "GPU"
  },
  "cells": [
    {
      "cell_type": "markdown",
      "source": [
        "# Entrenamiento de Clasificación de Género (UTKFace) - PyTorch"
      ],
      "metadata": {
        "id": "5JF-eabeMUu9"
      }
    },
    {
      "cell_type": "markdown",
      "source": [
        "##  Descargar y descomprimir el dataset desde Google Drive (.zip)\n",
        "Usamos gdown para descargar y zipfile para descomprimir."
      ],
      "metadata": {
        "id": "rMdKmvwTYukH"
      }
    },
    {
      "cell_type": "code",
      "source": [
        "# Instalación e importación de librerías\n",
        "\n",
        "\n",
        "import gdown\n",
        "import zipfile\n",
        "import os\n",
        "import torch\n",
        "import torch.nn as nn\n",
        "import torch.optim as optim\n",
        "from torch.utils.data import Dataset, DataLoader, random_split\n",
        "from torchvision import transforms, models\n",
        "from PIL import Image #Abrir imagenes\n",
        "import numpy as np #Manejar arrglos numericos\n",
        "from collections import Counter #Contar ocurrencias\n",
        "import matplotlib.pyplot as plt\n",
        "import shutil\n",
        "from sklearn.metrics import confusion_matrix, ConfusionMatrixDisplay, classification_report #Para calcular metricas de evaluacion\n",
        "from collections import defaultdict #Usar diccionarios con valores por defecto"
      ],
      "metadata": {
        "id": "a4RG8Fy9Y1V7"
      },
      "execution_count": 3,
      "outputs": []
    },
    {
      "cell_type": "markdown",
      "source": [
        "##Importar librerías necesarias"
      ],
      "metadata": {
        "id": "WGcAsmDYY5Hx"
      }
    },
    {
      "cell_type": "code",
      "source": [
        "# Descargar y descomprimir UTKFace\n",
        "file_id = \"12azyA3m0TGxmTjErPjdIYEYWAyEFjwYx\"\n",
        "output_zip = \"UTKFace.zip\"\n",
        "if not os.path.exists(output_zip):\n",
        "    gdown.download(f\"https://drive.google.com/uc?id={file_id}\", output_zip, quiet=False)\n",
        "if not os.path.exists(\"UTKFace\"):\n",
        "    with zipfile.ZipFile(output_zip, 'r') as zip_ref:\n",
        "        zip_ref.extractall(\"UTKFace\")"
      ],
      "metadata": {
        "id": "2AfasYw9Y6f5",
        "colab": {
          "base_uri": "https://localhost:8080/"
        },
        "outputId": "f88a929b-f60f-44f1-d4ef-b1d90c058b62"
      },
      "execution_count": 17,
      "outputs": [
        {
          "output_type": "stream",
          "name": "stderr",
          "text": [
            "Downloading...\n",
            "From (original): https://drive.google.com/uc?id=12azyA3m0TGxmTjErPjdIYEYWAyEFjwYx\n",
            "From (redirected): https://drive.google.com/uc?id=12azyA3m0TGxmTjErPjdIYEYWAyEFjwYx&confirm=t&uuid=d5eff1e7-6fda-4145-befb-7c1ceec399d8\n",
            "To: /content/UTKFace.zip\n",
            "100%|██████████| 1.40G/1.40G [00:23<00:00, 60.0MB/s]\n"
          ]
        }
      ]
    },
    {
      "cell_type": "markdown",
      "source": [
        "## Organizacion\n"
      ],
      "metadata": {
        "id": "acplO1dhQ-tn"
      }
    },
    {
      "cell_type": "code",
      "source": [
        "# Configuración centralizada\n",
        "class Config:\n",
        "    DATA_DIR = \"UTKFace\"              # Ruta al dataset\n",
        "    BATCH_SIZE = 64                    # Tamaño de lote\n",
        "    NUM_EPOCHS = 15                    # Número de épocas de entrenamiento\n",
        "    LR = 1e-4                          # Tasa de aprendizaje\n",
        "    PATIENCE = 3                       # Paciencia para early stopping\n",
        "    IMG_SIZE = 224                     # Tamaño al que se redimensionan las imágenes\n",
        "    SPLIT_RATIO = 0.8                 # Porcentaje de datos de entrenamiento\n",
        "    SEED = 42                          # Semilla para reproducibilidad\n",
        "    DEVICE = torch.device(\"cuda\" if torch.cuda.is_available() else \"cpu\")\n",
        "# Establecer semilla para reproducibilidad\n",
        "torch.manual_seed(Config.SEED)\n",
        "np.random.seed(Config.SEED)"
      ],
      "metadata": {
        "id": "vbQAOzWHRE12"
      },
      "execution_count": 4,
      "outputs": []
    },
    {
      "cell_type": "markdown",
      "source": [
        "## Dataset personalizado"
      ],
      "metadata": {
        "id": "XEXeyx4EY8tk"
      }
    },
    {
      "cell_type": "code",
      "source": [
        "class UTKFaceDataset(Dataset):\n",
        "    def __init__(self, folder_path, transform=None):\n",
        "        self.folder_path = folder_path #Ruta con las carpetas con imagenes\n",
        "        self.transform = transform #Recibe un transform de torchvision\n",
        "        self.image_files = [] # Inicializa self.image_files para almacenar los nombres válidos.\n",
        "        self._validate_and_prepare_data() #Llama al método privado _validate_and_prepare_data() para limpiar y validar el dataset.\n",
        "\n",
        "    def _validate_and_prepare_data(self):   #Recorre los archivos e ignora  los que no son imagenes\n",
        "        \"\"\"Valida y prepara los datos, mostrando estadísticas\"\"\"\n",
        "        valid_files = []\n",
        "        invalid_files = []\n",
        "\n",
        "        for fname in os.listdir(self.folder_path):\n",
        "            if not fname.lower().endswith(('.jpg', '.jpeg', '.png')):\n",
        "                continue\n",
        "\n",
        "            try:\n",
        "                partes = fname.split(\"_\")                   #Extra el genero del nombre del archivo\n",
        "                if len(partes) >= 3 and partes[1].isdigit():\n",
        "                    genero = int(partes[1])\n",
        "                    if genero in [0, 1]:\n",
        "                        valid_files.append(fname)\n",
        "                    else:\n",
        "                        invalid_files.append(fname)\n",
        "                else:\n",
        "                    invalid_files.append(fname)\n",
        "            except Exception as e:\n",
        "                invalid_files.append(fname)\n",
        "\n",
        "        self.image_files = valid_files\n",
        "        print(f\"\\nEstadísticas del Dataset:\")\n",
        "        print(f\"- Imágenes válidas: {len(valid_files)}\")\n",
        "        print(f\"- Imágenes descartadas: {len(invalid_files)}\")\n",
        "        print(f\"- Distribución de clases: {Counter([int(f.split('_')[1]) for f in valid_files])}\")\n",
        "\n",
        "    def __len__(self):\n",
        "        return len(self.image_files)\n",
        "\n",
        "    def __getitem__(self, idx):\n",
        "        img_name = self.image_files[idx]\n",
        "        img_path = os.path.join(self.folder_path, img_name)\n",
        "\n",
        "        try:\n",
        "            image = Image.open(img_path).convert(\"RGB\")    #Abre la imagen con pil y la convierte en RGB\n",
        "            genero = int(img_name.split(\"_\")[1])  #Extrae el genero\n",
        "\n",
        "            if self.transform:\n",
        "                image = self.transform(image)\n",
        "\n",
        "            return image, genero, img_name\n",
        "        except Exception as e:\n",
        "            print(f\"Error procesando {img_name}: {str(e)}\")  #Devuelva la tupla (imagen_transformada, género, nombre_del_archivo)\n",
        "            # Devolver un ejemplo aleatorio como fallback\n",
        "            return self[np.random.randint(0, len(self)-1)]"
      ],
      "metadata": {
        "id": "MMwHlbxcY_NM"
      },
      "execution_count": 5,
      "outputs": []
    },
    {
      "cell_type": "markdown",
      "source": [
        "## Transformaciones con aumento de datos\n"
      ],
      "metadata": {
        "id": "-E5cRciXZCSz"
      }
    },
    {
      "cell_type": "code",
      "source": [
        "def get_transforms(augment=True): #Para tener mas datos\n",
        "    \"\"\"Devuelve transformaciones con/sin aumento de datos\"\"\"\n",
        "    base_transforms = [\n",
        "        transforms.Resize((Config.IMG_SIZE, Config.IMG_SIZE)),      # Redimensiona la imagen al tamaño fijo (ej: 224x224).\n",
        "        transforms.ToTensor(), #Convierte la imagen de PIL.Image o numpy.ndarray a un tensor de PyTorch\n",
        "        transforms.Normalize(mean=[0.485, 0.456, 0.406], std=[0.229, 0.224, 0.225]) #\tNormaliza los valores RGB por canal. Se suelen usar estos valores para modelos preentrenados en ImageNet.\n",
        "    ]\n",
        "\n",
        "    if augment:\n",
        "        augment_transforms = [\n",
        "            transforms.RandomHorizontalFlip(p=0.5), #Invierte horizontalmente la imagen con 50% de probabilidad.\n",
        "            transforms.RandomRotation(degrees=15),  #Rota la imagen aleatoriamente hasta ±15°.\n",
        "            transforms.ColorJitter(brightness=0.2, contrast=0.2, saturation=0.2), #Modifica brillo, contraste y saturación aleatoriamente\n",
        "            transforms.RandomAffine(degrees=0, translate=(0.1, 0.1)), #Aplica traslaciones aleatorias de hasta el 10% en cada eje.\n",
        "            transforms.RandomGrayscale(p=0.1) #Convierte la imagen a escala de grises con 10% de probabilidad.\n",
        "\n",
        "        ]\n",
        "        return transforms.Compose(augment_transforms + base_transforms) #Si augment=True, se aplican primero los aumentos, luego el resize y la normalización.\n",
        "    return transforms.Compose(base_transforms) #Si augment=False, se usan solo las transformaciones base"
      ],
      "metadata": {
        "id": "lUIyGdHeZEvd"
      },
      "execution_count": 6,
      "outputs": []
    },
    {
      "cell_type": "markdown",
      "source": [
        "## Configuracion de dispositivo"
      ],
      "metadata": {
        "id": "mCnv_0wjS9iX"
      }
    },
    {
      "cell_type": "code",
      "source": [
        "device = torch.device(\"cuda\" if torch.cuda.is_available() else \"cpu\")\n",
        "print(f\"Usando dispositivo: {device}\")\n"
      ],
      "metadata": {
        "id": "bgu2Eio3TCIg",
        "colab": {
          "base_uri": "https://localhost:8080/"
        },
        "outputId": "00a956ed-2453-40ce-dd58-f1b93c11b345"
      },
      "execution_count": 7,
      "outputs": [
        {
          "output_type": "stream",
          "name": "stdout",
          "text": [
            "Usando dispositivo: cuda\n"
          ]
        }
      ]
    },
    {
      "cell_type": "markdown",
      "source": [
        "## Modelo con finetuning\n"
      ],
      "metadata": {
        "id": "T2MWb5cmDna8"
      }
    },
    {
      "cell_type": "code",
      "source": [
        "def build_model():\n",
        "\n",
        "\n",
        "    \"\"\"Construye y configura el modelo con fine-tuning\"\"\"\n",
        "    model = models.resnet50(pretrained=True) #Carga el modelo ResNet-50 ya preentrenado en ImageNet\n",
        "\n",
        "    # Congelar capas iniciales\n",
        "    for param in model.parameters():  #Congela todas las capas del modelo: no se actualizarán durante el entrenamiento.\n",
        "        param.requires_grad = False\n",
        "\n",
        "    # Fine-tune las últimas capas\n",
        "    for param in model.layer4.parameters(): #Le permitimos entrenar el utlimo bloque convolucional de restnet, para clasificacion de genero\n",
        "        param.requires_grad = True\n",
        "\n",
        "    # Reemplazar la capa fully connected\n",
        "    num_ftrs = model.fc.in_features #Extrae el número de features de entrada esperados por la capa final (model.fc.in_features).\n",
        "    model.fc = nn.Sequential(      #Reempla la capa fc original por la nueva re personalizado\n",
        "        nn.Dropout(0.5), #\tEvita overfitting desactivando aleatoriamente el 50% de las neuronas\n",
        "        nn.Linear(num_ftrs, 512), # \tReduce dimensionalidad\n",
        "        nn.ReLU(), # \tIntroduce no linealidad\n",
        "        nn.Dropout(0.3), # Evita el overfitting\n",
        "        nn.Linear(512, 1)\n",
        "    )\n",
        "\n",
        "\n",
        "    return model.to(Config.DEVICE)\n"
      ],
      "metadata": {
        "id": "gVpk9lInTXJX"
      },
      "execution_count": 8,
      "outputs": []
    },
    {
      "cell_type": "markdown",
      "source": [
        "##Entrenamiento, modelo preentrenado y errores"
      ],
      "metadata": {
        "id": "syHvAlxITefl"
      }
    },
    {
      "cell_type": "code",
      "source": [
        "class Trainer:\n",
        "    def __init__(self, model, train_loader, val_loader):\n",
        "        self.model = model.to(Config.DEVICE)  # Asegura modelo en dispositivo correcto\n",
        "        self.train_loader = train_loader\n",
        "        self.val_loader = val_loader\n",
        "        self.criterion = nn.BCEWithLogitsLoss()\n",
        "\n",
        "        # Solo optimiza parámetros entrenables (fine-tuned)\n",
        "        trainable_params = filter(lambda p: p.requires_grad, self.model.parameters())\n",
        "        self.optimizer = optim.AdamW(trainable_params, lr=Config.LR)\n",
        "\n",
        "        self.scheduler = optim.lr_scheduler.ReduceLROnPlateau(\n",
        "            self.optimizer, mode='max', patience=2, factor=0.5, verbose=True\n",
        "        )\n",
        "        self.best_val_acc = 0.0\n",
        "        self.history = defaultdict(list)\n",
        "\n",
        "    def train_epoch(self):\n",
        "        self.model.train()\n",
        "        running_loss, correct, total = 0.0, 0, 0\n",
        "\n",
        "        for images, targets, _ in self.train_loader:\n",
        "            images = images.to(Config.DEVICE)\n",
        "            targets = targets.float().unsqueeze(1).to(Config.DEVICE)\n",
        "\n",
        "            self.optimizer.zero_grad()\n",
        "            outputs = self.model(images)\n",
        "            loss = self.criterion(outputs, targets)\n",
        "            loss.backward()\n",
        "            self.optimizer.step()\n",
        "\n",
        "            running_loss += loss.item() * images.size(0)\n",
        "            preds = (torch.sigmoid(outputs) > 0.5).float()\n",
        "            correct += (preds == targets).sum().item()\n",
        "            total += targets.size(0)\n",
        "\n",
        "        avg_loss = running_loss / total\n",
        "        accuracy = correct / total\n",
        "        return avg_loss, accuracy\n",
        "\n",
        "    def validate(self, save_misclassified=False):\n",
        "        self.model.eval()\n",
        "        running_loss, correct, total = 0.0, 0, 0\n",
        "        misclassified = []\n",
        "\n",
        "        with torch.no_grad():\n",
        "            for images, targets, img_names in self.val_loader:\n",
        "                images = images.to(Config.DEVICE)\n",
        "                targets = targets.float().unsqueeze(1).to(Config.DEVICE)\n",
        "\n",
        "                outputs = self.model(images)\n",
        "                loss = self.criterion(outputs, targets)\n",
        "\n",
        "                running_loss += loss.item() * images.size(0)\n",
        "                probs = torch.sigmoid(outputs)\n",
        "                preds = (probs > 0.5).float()\n",
        "                correct += (preds == targets).sum().item()\n",
        "                total += targets.size(0)\n",
        "\n",
        "                if save_misclassified:\n",
        "                    for i in range(len(preds)):\n",
        "                        if preds[i] != targets[i]:\n",
        "                            misclassified.append((\n",
        "                                img_names[i],\n",
        "                                targets[i].item(),\n",
        "                                preds[i].item(),\n",
        "                                probs[i].item()\n",
        "                            ))\n",
        "\n",
        "        avg_loss = running_loss / total\n",
        "        accuracy = correct / total\n",
        "        return avg_loss, accuracy, misclassified\n",
        "\n",
        "    def train(self):\n",
        "     early_stop_counter = 0\n",
        "\n",
        "     for epoch in range(Config.NUM_EPOCHS):\n",
        "        train_loss, train_acc = self.train_epoch()\n",
        "        val_loss, val_acc, _ = self.validate()\n",
        "\n",
        "        self.scheduler.step(val_acc)\n",
        "\n",
        "        self.history['train_loss'].append(train_loss)\n",
        "        self.history['train_acc'].append(train_acc)\n",
        "        self.history['val_loss'].append(val_loss)\n",
        "        self.history['val_acc'].append(val_acc)\n",
        "\n",
        "        if val_acc > self.best_val_acc:\n",
        "            self.best_val_acc = val_acc\n",
        "            torch.save({\n",
        "                'epoch': epoch,\n",
        "                'model_state_dict': self.model.state_dict(),\n",
        "                'optimizer_state_dict': self.optimizer.state_dict(),\n",
        "                'val_acc': val_acc,\n",
        "                'val_loss': val_loss,\n",
        "            }, 'best_model.pth')\n",
        "            early_stop_counter = 0\n",
        "        else:\n",
        "            early_stop_counter += 1\n",
        "\n",
        "        print(f\"Epoch {epoch + 1}/{Config.NUM_EPOCHS}\")\n",
        "        print(f\"Train Loss: {train_loss:.4f} | Acc: {train_acc:.4f}\")\n",
        "        print(f\"Val   Loss: {val_loss:.4f} | Acc: {val_acc:.4f}\")\n",
        "        print(f\"LR: {self.optimizer.param_groups[0]['lr']:.2e}\")\n",
        "        print(\"-\" * 50)\n",
        "\n",
        "        if early_stop_counter >= Config.PATIENCE:\n",
        "            print(\"Early stopping triggered!\")\n",
        "            break\n",
        "\n",
        "     return self.history  # ← Esto ahora está fuera del for"
      ],
      "metadata": {
        "id": "-brDoScgT7tK"
      },
      "execution_count": 21,
      "outputs": []
    },
    {
      "cell_type": "markdown",
      "source": [
        "## Visualizacion\n"
      ],
      "metadata": {
        "id": "SxMfW5zAURW2"
      }
    },
    {
      "cell_type": "code",
      "source": [
        "def plot_confusion_matrix(model, dataloader, class_names=['Female', 'Male']):\n",
        "    \"\"\"Visualiza matriz de confusión para clasificación binaria\"\"\"\n",
        "    model.eval()\n",
        "    all_preds = []\n",
        "    all_labels = []\n",
        "\n",
        "    with torch.no_grad():\n",
        "        for images, labels, _ in dataloader:\n",
        "            images = images.to(Config.DEVICE)\n",
        "            labels = labels.to(Config.DEVICE).float()  # ✅ Asegura que las labels estén en float\n",
        "\n",
        "            outputs = model(images)\n",
        "            probs = torch.sigmoid(outputs)  # ✅ Convierte logits a probabilidades\n",
        "            preds = (probs > 0.5).long().squeeze(1)  # ✅ Umbral para clasificación\n",
        "\n",
        "            all_preds.extend(preds.cpu().numpy())\n",
        "            all_labels.extend(labels.cpu().numpy().astype(int))  # ✅ Convertir a int para matriz de confusión\n",
        "\n",
        "    cm = confusion_matrix(all_labels, all_preds)\n",
        "    disp = ConfusionMatrixDisplay(confusion_matrix=cm, display_labels=class_names)\n",
        "\n",
        "    fig, ax = plt.subplots(figsize=(8, 6))\n",
        "    disp.plot(ax=ax, cmap='Blues', colorbar=False)\n",
        "    plt.title('Confusion Matrix', pad=20)\n",
        "    plt.xlabel('Predicted Label', labelpad=10)\n",
        "    plt.ylabel('True Label', labelpad=10)\n",
        "\n",
        "    # Agregar valores en las celdas\n",
        "    for i in range(len(class_names)):\n",
        "        for j in range(len(class_names)):\n",
        "            ax.text(j, i, f\"{cm[i, j]}\",\n",
        "                    ha=\"center\", va=\"center\",\n",
        "                    color=\"white\" if cm[i, j] > cm.max() / 2 else \"black\")\n",
        "\n",
        "    plt.tight_layout()\n",
        "    plt.show()"
      ],
      "metadata": {
        "id": "kUCVVZ6ZUT9w"
      },
      "execution_count": 22,
      "outputs": []
    },
    {
      "cell_type": "code",
      "source": [
        "def plot_metrics(history):\n",
        "    \"\"\"Dibuja curvas de pérdida y precisión durante el entrenamiento\"\"\"\n",
        "    epochs = range(1, len(history['train_loss']) + 1)\n",
        "\n",
        "    plt.figure(figsize=(12, 5))\n",
        "\n",
        "    # Pérdida\n",
        "    plt.subplot(1, 2, 1)\n",
        "    plt.plot(epochs, history['train_loss'], label='Train Loss')\n",
        "    plt.plot(epochs, history['val_loss'], label='Val Loss')\n",
        "    plt.title('Loss over Epochs')\n",
        "    plt.xlabel('Epoch')\n",
        "    plt.ylabel('Loss')\n",
        "    plt.legend()\n",
        "\n",
        "    # Precisión\n",
        "    plt.subplot(1, 2, 2)\n",
        "    plt.plot(epochs, history['train_acc'], label='Train Acc')\n",
        "    plt.plot(epochs, history['val_acc'], label='Val Acc')\n",
        "    plt.title('Accuracy over Epochs')\n",
        "    plt.xlabel('Epoch')\n",
        "    plt.ylabel('Accuracy')\n",
        "    plt.legend()\n",
        "\n",
        "    plt.tight_layout()\n",
        "    plt.show()"
      ],
      "metadata": {
        "id": "aEjpe3ub86MR"
      },
      "execution_count": 23,
      "outputs": []
    },
    {
      "cell_type": "markdown",
      "source": [
        "## Flujo de llamadas\n",
        "\n",
        "\n"
      ],
      "metadata": {
        "id": "8zEd1XBqUhSV"
      }
    },
    {
      "cell_type": "code",
      "source": [
        "def main():\n",
        "    # Descargar y preparar datos\n",
        "    if not os.path.exists(Config.DATA_DIR):\n",
        "        download_and_extract_data()\n",
        "\n",
        "    # Cargar dataset\n",
        "    transform = get_transforms(augment=True)\n",
        "    full_dataset = UTKFaceDataset(Config.DATA_DIR, transform=transform)\n",
        "\n",
        "    # Dividir dataset\n",
        "    train_size = int(Config.SPLIT_RATIO * len(full_dataset))\n",
        "    val_size = len(full_dataset) - train_size\n",
        "    train_dataset, val_dataset = random_split(\n",
        "        full_dataset, [train_size, val_size],\n",
        "        generator=torch.Generator().manual_seed(Config.SEED))\n",
        "\n",
        "    # Crear dataloaders\n",
        "    train_loader = DataLoader(\n",
        "        train_dataset, batch_size=Config.BATCH_SIZE, shuffle=True, num_workers=2)\n",
        "    val_loader = DataLoader(\n",
        "        val_dataset, batch_size=Config.BATCH_SIZE, shuffle=False, num_workers=2)\n",
        "\n",
        "    # Inicializar modelo y entrenador\n",
        "    model = build_model()\n",
        "    trainer = Trainer(model, train_loader, val_loader)\n",
        "\n",
        "    # Entrenar modelo\n",
        "    print(\"\\nIniciando entrenamiento...\")\n",
        "    history = trainer.train()\n",
        "\n",
        "    # Visualizar resultados\n",
        "    plot_metrics(history)\n",
        "\n",
        "    # Cargar mejor modelo\n",
        "    checkpoint = torch.load('best_model.pth')\n",
        "    model.load_state_dict(checkpoint['model_state_dict'])\n",
        "\n",
        "    # Evaluar modelo final\n",
        "    print(\"\\nEvaluando modelo final...\")\n",
        "    val_loss, val_acc, misclassified = trainer.validate(save_misclassified=True)\n",
        "    print(f\"Mejor precisión en validación: {val_acc:.4f}\")\n",
        "\n",
        "    # Visualizar matriz de confusión\n",
        "    plot_confusion_matrix(model, val_loader)\n",
        "\n",
        "    # Mostrar ejemplos mal clasificados\n",
        "    if misclassified:\n",
        "        print(\"\\nEjemplos mal clasificados:\")\n",
        "        for i, (img_name, true, pred, conf) in enumerate(misclassified[:5]):\n",
        "            print(f\"{i+1}. {img_name} - True: {'Male' if true else 'Female'} | \"\n",
        "                  f\"Pred: {'Male' if pred else 'Female'} | Conf: {conf:.2f}\")\n",
        "\n",
        "if __name__ == \"__main__\":\n",
        "    main()"
      ],
      "metadata": {
        "colab": {
          "base_uri": "https://localhost:8080/",
          "height": 1000
        },
        "id": "pk3Bq4N5UjTT",
        "outputId": "4bd6b92b-252f-4a04-d5d4-daef1fd0f1e1"
      },
      "execution_count": 24,
      "outputs": [
        {
          "output_type": "stream",
          "name": "stdout",
          "text": [
            "\n",
            "Estadísticas del Dataset:\n",
            "- Imágenes válidas: 24104\n",
            "- Imágenes descartadas: 2\n",
            "- Distribución de clases: Counter({0: 12581, 1: 11523})\n"
          ]
        },
        {
          "output_type": "stream",
          "name": "stderr",
          "text": [
            "/usr/local/lib/python3.11/dist-packages/torchvision/models/_utils.py:208: UserWarning: The parameter 'pretrained' is deprecated since 0.13 and may be removed in the future, please use 'weights' instead.\n",
            "  warnings.warn(\n",
            "/usr/local/lib/python3.11/dist-packages/torchvision/models/_utils.py:223: UserWarning: Arguments other than a weight enum or `None` for 'weights' are deprecated since 0.13 and may be removed in the future. The current behavior is equivalent to passing `weights=ResNet50_Weights.IMAGENET1K_V1`. You can also use `weights=ResNet50_Weights.DEFAULT` to get the most up-to-date weights.\n",
            "  warnings.warn(msg)\n"
          ]
        },
        {
          "output_type": "stream",
          "name": "stdout",
          "text": [
            "\n",
            "Iniciando entrenamiento...\n"
          ]
        },
        {
          "output_type": "stream",
          "name": "stderr",
          "text": [
            "/usr/local/lib/python3.11/dist-packages/torch/optim/lr_scheduler.py:62: UserWarning: The verbose parameter is deprecated. Please use get_last_lr() to access the learning rate.\n",
            "  warnings.warn(\n"
          ]
        },
        {
          "output_type": "stream",
          "name": "stdout",
          "text": [
            "Epoch 1/15\n",
            "Train Loss: 0.2661 | Acc: 0.8874\n",
            "Val   Loss: 0.2016 | Acc: 0.9216\n",
            "LR: 1.00e-04\n",
            "--------------------------------------------------\n",
            "Epoch 2/15\n",
            "Train Loss: 0.1972 | Acc: 0.9205\n",
            "Val   Loss: 0.2018 | Acc: 0.9268\n",
            "LR: 1.00e-04\n",
            "--------------------------------------------------\n",
            "Epoch 3/15\n",
            "Train Loss: 0.1687 | Acc: 0.9354\n",
            "Val   Loss: 0.1849 | Acc: 0.9245\n",
            "LR: 1.00e-04\n",
            "--------------------------------------------------\n",
            "Epoch 4/15\n",
            "Train Loss: 0.1511 | Acc: 0.9419\n",
            "Val   Loss: 0.1891 | Acc: 0.9280\n",
            "LR: 1.00e-04\n",
            "--------------------------------------------------\n",
            "Epoch 5/15\n",
            "Train Loss: 0.1362 | Acc: 0.9475\n",
            "Val   Loss: 0.1830 | Acc: 0.9313\n",
            "LR: 1.00e-04\n",
            "--------------------------------------------------\n",
            "Epoch 6/15\n",
            "Train Loss: 0.1120 | Acc: 0.9574\n",
            "Val   Loss: 0.2086 | Acc: 0.9276\n",
            "LR: 1.00e-04\n",
            "--------------------------------------------------\n",
            "Epoch 7/15\n",
            "Train Loss: 0.1030 | Acc: 0.9591\n",
            "Val   Loss: 0.2063 | Acc: 0.9249\n",
            "LR: 1.00e-04\n",
            "--------------------------------------------------\n",
            "Epoch 8/15\n",
            "Train Loss: 0.0981 | Acc: 0.9627\n",
            "Val   Loss: 0.2028 | Acc: 0.9259\n",
            "LR: 5.00e-05\n",
            "--------------------------------------------------\n",
            "Early stopping triggered!\n"
          ]
        },
        {
          "output_type": "display_data",
          "data": {
            "text/plain": [
              "<Figure size 1200x500 with 2 Axes>"
            ],
            "image/png": "[encoded data removed]"
          },
          "metadata": {}
        },
        {
          "output_type": "stream",
          "name": "stdout",
          "text": [
            "\n",
            "Evaluando modelo final...\n",
            "Mejor precisión en validación: 0.9309\n"
          ]
        },
        {
          "output_type": "display_data",
          "data": {
            "text/plain": [
              "<Figure size 800x600 with 1 Axes>"
            ],
            "image/png": "[encoded data removed]"
          },
          "metadata": {}
        },
        {
          "output_type": "stream",
          "name": "stdout",
          "text": [
            "\n",
            "Ejemplos mal clasificados:\n",
            "1. 1_0_2_20161219222046607.jpg - True: Female | Pred: Male | Conf: 0.58\n",
            "2. 2_0_0_20170110212644094.jpg - True: Female | Pred: Male | Conf: 0.65\n",
            "3. 8_1_4_20170109202746183.jpg - True: Male | Pred: Female | Conf: 0.10\n",
            "4. 1_0_2_20161219222609775.jpg - True: Female | Pred: Male | Conf: 0.97\n",
            "5. 63_0_0_20170120223438029.jpg - True: Female | Pred: Male | Conf: 0.79\n"
          ]
        }
      ]
    }
  ]
}